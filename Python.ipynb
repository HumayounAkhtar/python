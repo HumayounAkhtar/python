{
  "nbformat": 4,
  "nbformat_minor": 0,
  "metadata": {
    "colab": {
      "provenance": []
    },
    "kernelspec": {
      "name": "python3",
      "display_name": "Python 3"
    },
    "language_info": {
      "name": "python"
    }
  },
  "cells": [
    {
      "cell_type": "markdown",
      "source": [
        "# **Print Statement**"
      ],
      "metadata": {
        "id": "1NwW0CwyUVVN"
      }
    },
    {
      "cell_type": "code",
      "source": [
        "print(\"Hello World!!\")\n",
        "print(2 + 4)\n",
        "print(67 * 22)"
      ],
      "metadata": {
        "colab": {
          "base_uri": "https://localhost:8080/"
        },
        "id": "33QmOOqGUorX",
        "outputId": "67476aac-a5df-4ffa-efdf-35c3634f45e9"
      },
      "execution_count": 1,
      "outputs": [
        {
          "output_type": "stream",
          "name": "stdout",
          "text": [
            "Hello World!!\n",
            "6\n",
            "1474\n"
          ]
        }
      ]
    },
    {
      "cell_type": "markdown",
      "source": [
        "##Print using END Parameter"
      ],
      "metadata": {
        "id": "dWVq3PAbU4X8"
      }
    },
    {
      "cell_type": "code",
      "source": [
        "print(\"Hello World\")\n",
        "print(\"This is another print statement\")"
      ],
      "metadata": {
        "colab": {
          "base_uri": "https://localhost:8080/"
        },
        "id": "5sYuep0_VGz4",
        "outputId": "107ed6c2-9504-4066-eef5-9d9b0f148562"
      },
      "execution_count": 2,
      "outputs": [
        {
          "output_type": "stream",
          "name": "stdout",
          "text": [
            "Hello World\n",
            "This is another print statement\n"
          ]
        }
      ]
    },
    {
      "cell_type": "code",
      "source": [
        "print(\"Hello World\", end=\"joker\")"
      ],
      "metadata": {
        "colab": {
          "base_uri": "https://localhost:8080/"
        },
        "id": "73HzmvISVP0-",
        "outputId": "c1d18b82-90fd-4d69-e926-1cc5b72ef05e"
      },
      "execution_count": 6,
      "outputs": [
        {
          "output_type": "stream",
          "name": "stdout",
          "text": [
            "Hello Worldjoker"
          ]
        }
      ]
    },
    {
      "cell_type": "code",
      "source": [
        "print(\"This is a good language\", end=\" \")\n",
        "print(\"Goodbye\")"
      ],
      "metadata": {
        "colab": {
          "base_uri": "https://localhost:8080/"
        },
        "id": "jhr0uonhWcVz",
        "outputId": "9a5267c9-b369-435c-f27a-707e3faf7287"
      },
      "execution_count": 7,
      "outputs": [
        {
          "output_type": "stream",
          "name": "stdout",
          "text": [
            "This is a good language Goodbye\n"
          ]
        }
      ]
    },
    {
      "cell_type": "code",
      "source": [
        "print(\"Hello this is python.\\nIt is a good language\")"
      ],
      "metadata": {
        "colab": {
          "base_uri": "https://localhost:8080/"
        },
        "id": "GzrNm_XgWlQ3",
        "outputId": "305047dd-fc87-485d-db78-3623049cdbcb"
      },
      "execution_count": 8,
      "outputs": [
        {
          "output_type": "stream",
          "name": "stdout",
          "text": [
            "Hello this is python.\n",
            "It is a good language\n"
          ]
        }
      ]
    },
    {
      "cell_type": "code",
      "source": [
        "print(\"Hello this is python.\\tIt is a good language\")"
      ],
      "metadata": {
        "colab": {
          "base_uri": "https://localhost:8080/"
        },
        "id": "NiXKEPJvW9qh",
        "outputId": "a085db8a-06c4-4711-d429-a3e81843ec63"
      },
      "execution_count": 9,
      "outputs": [
        {
          "output_type": "stream",
          "name": "stdout",
          "text": [
            "Hello this is python.\tIt is a good language\n"
          ]
        }
      ]
    },
    {
      "cell_type": "markdown",
      "source": [
        "# **Comments**"
      ],
      "metadata": {
        "id": "d-zPLnqEXKNi"
      }
    },
    {
      "cell_type": "code",
      "source": [
        "print(\"Hello Student.\")\n",
        "# I can write whatever I want to write\n",
        "print(\"This is just a print statement.\") # I can write this too\n",
        "# This Is a comment and It will not execute"
      ],
      "metadata": {
        "colab": {
          "base_uri": "https://localhost:8080/"
        },
        "id": "TpUmSuH2XP3O",
        "outputId": "035f1c97-b38c-4cf4-ad96-26e6df0d6da2"
      },
      "execution_count": 11,
      "outputs": [
        {
          "output_type": "stream",
          "name": "stdout",
          "text": [
            "Hello Student.\n",
            "This is just a print statement.\n"
          ]
        }
      ]
    },
    {
      "cell_type": "code",
      "source": [
        "\"\"\"This is a comment\n",
        "Date: 2 January 1996\n",
        "Multi-line comment ends here\n",
        "\"\"\"\n",
        "print(\"Hello Student!!!\")\n",
        "# Remember this is Single Line Comment\n",
        "print(\"I am learning Python.\")"
      ],
      "metadata": {
        "colab": {
          "base_uri": "https://localhost:8080/"
        },
        "id": "FlktSAwWXtUS",
        "outputId": "4f528680-bbd0-477e-ac50-8d00f66d8ab2"
      },
      "execution_count": 12,
      "outputs": [
        {
          "output_type": "stream",
          "name": "stdout",
          "text": [
            "Hello Student!!!\n",
            "I am learning Python.\n"
          ]
        }
      ]
    },
    {
      "cell_type": "markdown",
      "source": [
        "# **02 legal variable name:**"
      ],
      "metadata": {
        "id": "9SFq7frtYX6Y"
      }
    },
    {
      "cell_type": "code",
      "source": [
        "# myname = \"John Doe\"\n",
        "# name = \"Jane Doe\"\n",
        "# _name1= \"Jane Doe\" # snake case writing style\n",
        "# nameFirst = \"Jane\" # camel case writing style\n",
        "# NameFirst = \"Jane\" # pascal case writing style\n",
        "# name1st = \"Jane\"\n",
        "# name-name = \"Jane\" # hyphenated writing style"
      ],
      "metadata": {
        "id": "HhPO_gpoYdxk"
      },
      "execution_count": 13,
      "outputs": []
    },
    {
      "cell_type": "code",
      "source": [
        "a = \"Hello World\"\n",
        "b = 23\n",
        "c = 56.66\n",
        "print(a)\n",
        "print(b)\n",
        "print(c)\n",
        "print(b + c)"
      ],
      "metadata": {
        "colab": {
          "base_uri": "https://localhost:8080/"
        },
        "id": "yiFvDu4YYzV6",
        "outputId": "58cf54a2-28d2-47f8-b8a3-1049736293fe"
      },
      "execution_count": 14,
      "outputs": [
        {
          "output_type": "stream",
          "name": "stdout",
          "text": [
            "Hello World\n",
            "23\n",
            "56.66\n",
            "79.66\n"
          ]
        }
      ]
    },
    {
      "cell_type": "code",
      "source": [
        "#Assigning multiple variables in single line\n",
        "a, b, c = \"Hello World\", 23, 56.66\n",
        "print(a)\n",
        "print(b)\n",
        "print(c)\n",
        "print(b + c)"
      ],
      "metadata": {
        "colab": {
          "base_uri": "https://localhost:8080/"
        },
        "id": "y8EQsjaqZAVG",
        "outputId": "5e7d2a4c-fa8d-4239-e7ce-780a56f80ddf"
      },
      "execution_count": 15,
      "outputs": [
        {
          "output_type": "stream",
          "name": "stdout",
          "text": [
            "Hello World\n",
            "23\n",
            "56.66\n",
            "79.66\n"
          ]
        }
      ]
    },
    {
      "cell_type": "code",
      "source": [
        "#Case sensitive\n",
        "firstname = \"Cristiano\"\n",
        "Firstname = \"Melon Eusk\"\n",
        "print(firstname)\n",
        "print(Firstname)"
      ],
      "metadata": {
        "colab": {
          "base_uri": "https://localhost:8080/"
        },
        "id": "7z4zbnfpZfns",
        "outputId": "a4f274d3-b369-401b-963d-6dae83e8b2d1"
      },
      "execution_count": 16,
      "outputs": [
        {
          "output_type": "stream",
          "name": "stdout",
          "text": [
            "Cristiano\n",
            "Melon Eusk\n"
          ]
        }
      ]
    },
    {
      "cell_type": "markdown",
      "source": [
        "##You cannot use any Python keywords as your identifier name. Here are the\n",
        "##Python keywords:\n",
        "**False,** def, if, raise ,None\n",
        "del, import, return, True, elif\n",
        "in ,try ,and ,else, is\n",
        "while as, except, lambda, with\n",
        "assert, finally ,nonlocal, yield ,break\n",
        "for ,not ,class ,from ,or\n",
        "continue, global ,pass **bold text**"
      ],
      "metadata": {
        "id": "STFzc9qVZ1ny"
      }
    },
    {
      "cell_type": "markdown",
      "source": [
        "# **Data Types in Python**"
      ],
      "metadata": {
        "id": "p5OgZEqQcNEy"
      }
    },
    {
      "cell_type": "code",
      "source": [
        "# Integers are used to store whole numbers\n",
        "age = 25\n",
        "print(type(age))\n",
        "print(age)\n"
      ],
      "metadata": {
        "colab": {
          "base_uri": "https://localhost:8080/"
        },
        "id": "PC1lG0y6cPhx",
        "outputId": "69534b64-152d-4fd4-cd65-e93c56caead9"
      },
      "execution_count": 17,
      "outputs": [
        {
          "output_type": "stream",
          "name": "stdout",
          "text": [
            "<class 'int'>\n",
            "25\n"
          ]
        }
      ]
    },
    {
      "cell_type": "code",
      "source": [
        "# Floating point numbers are used to store decimal numbers\n",
        "height = 5.9\n",
        "print(type(height))\n",
        "print(height)\n"
      ],
      "metadata": {
        "colab": {
          "base_uri": "https://localhost:8080/"
        },
        "id": "xVxPBItZch7M",
        "outputId": "22e3d722-0877-4b7a-8051-fbbc32c21fa4"
      },
      "execution_count": 18,
      "outputs": [
        {
          "output_type": "stream",
          "name": "stdout",
          "text": [
            "<class 'float'>\n",
            "5.9\n"
          ]
        }
      ]
    },
    {
      "cell_type": "code",
      "source": [
        "# Strings are used to store sequences of characters\n",
        "name = \"Alice\"\n",
        "print(type(name))\n",
        "print(name)\n"
      ],
      "metadata": {
        "colab": {
          "base_uri": "https://localhost:8080/"
        },
        "id": "4Zy1oYsbc2Fs",
        "outputId": "4145fd40-cbec-4c6a-986b-599907ec0439"
      },
      "execution_count": 19,
      "outputs": [
        {
          "output_type": "stream",
          "name": "stdout",
          "text": [
            "<class 'str'>\n",
            "Alice\n"
          ]
        }
      ]
    },
    {
      "cell_type": "code",
      "source": [
        "# Booleans are used to store True/False values\n",
        "is_student = True\n",
        "print(type(is_student))\n",
        "print(is_student)\n"
      ],
      "metadata": {
        "colab": {
          "base_uri": "https://localhost:8080/"
        },
        "id": "ZDPchOmMdCSI",
        "outputId": "751c78e5-a6cd-49cd-bf4b-7dcf840cd240"
      },
      "execution_count": 20,
      "outputs": [
        {
          "output_type": "stream",
          "name": "stdout",
          "text": [
            "<class 'bool'>\n",
            "True\n"
          ]
        }
      ]
    },
    {
      "cell_type": "code",
      "source": [
        "# None is used to represent the absence of a value\n",
        "status = None\n",
        "print(type(status))\n",
        "print(status)\n"
      ],
      "metadata": {
        "colab": {
          "base_uri": "https://localhost:8080/"
        },
        "id": "3bhgDdGtdLfB",
        "outputId": "511cc6e0-7fd0-4841-8865-15ee256b8a11"
      },
      "execution_count": 21,
      "outputs": [
        {
          "output_type": "stream",
          "name": "stdout",
          "text": [
            "<class 'NoneType'>\n",
            "None\n"
          ]
        }
      ]
    },
    {
      "cell_type": "code",
      "source": [
        "# Lists are used to store multiple items in a single variable\n",
        "fruits = [\"apple\", \"banana\", \"cherry\"]\n",
        "print(type(fruits))\n",
        "print(fruits)\n",
        "\n"
      ],
      "metadata": {
        "colab": {
          "base_uri": "https://localhost:8080/"
        },
        "id": "lxPBd6CedYwH",
        "outputId": "3902fcb3-920f-47ff-9d47-d1422bcbddd8"
      },
      "execution_count": 23,
      "outputs": [
        {
          "output_type": "stream",
          "name": "stdout",
          "text": [
            "<class 'list'>\n",
            "['apple', 'banana', 'cherry']\n"
          ]
        }
      ]
    },
    {
      "cell_type": "code",
      "source": [
        "# Tuples are used to store multiple items, but they are immutable (cannot be changed)\n",
        "coordinates = (10.0, 20.0)\n",
        "print(type(coordinates))\n",
        "print(coordinates)"
      ],
      "metadata": {
        "colab": {
          "base_uri": "https://localhost:8080/"
        },
        "id": "z8hWzibjd37X",
        "outputId": "8db23d6d-75a1-4f6f-ba0c-8943104a979d"
      },
      "execution_count": 24,
      "outputs": [
        {
          "output_type": "stream",
          "name": "stdout",
          "text": [
            "<class 'tuple'>\n",
            "(10.0, 20.0)\n"
          ]
        }
      ]
    },
    {
      "cell_type": "code",
      "source": [
        "# Sets are used to store multiple unique items in an unordered manner\n",
        "unique_numbers = {1, 2, 3, 2}\n",
        "print(type(unique_numbers))\n",
        "print(unique_numbers)"
      ],
      "metadata": {
        "colab": {
          "base_uri": "https://localhost:8080/"
        },
        "id": "Zvl41mufeGja",
        "outputId": "c5eb06e9-b35f-4bdc-fe2d-95ec20a321b4"
      },
      "execution_count": 25,
      "outputs": [
        {
          "output_type": "stream",
          "name": "stdout",
          "text": [
            "<class 'set'>\n",
            "{1, 2, 3}\n"
          ]
        }
      ]
    },
    {
      "cell_type": "code",
      "source": [
        "# Dictionaries are used to store key-value pairs\n",
        "person = {\"name\": \"Alice\", \"age\": 25, \"city\": \"New York\"}\n",
        "print(type(person))\n",
        "print(person)"
      ],
      "metadata": {
        "colab": {
          "base_uri": "https://localhost:8080/"
        },
        "id": "zWWfLt1YeQG1",
        "outputId": "69bd6e98-5a28-44fd-9e8d-b01c2ccc6692"
      },
      "execution_count": 26,
      "outputs": [
        {
          "output_type": "stream",
          "name": "stdout",
          "text": [
            "<class 'dict'>\n",
            "{'name': 'Alice', 'age': 25, 'city': 'New York'}\n"
          ]
        }
      ]
    },
    {
      "cell_type": "markdown",
      "source": [
        "# **Typecasting**"
      ],
      "metadata": {
        "id": "7jHI70l1fEmY"
      }
    },
    {
      "cell_type": "code",
      "source": [
        "# Typecasting in Python:\n",
        "abc = 5\n",
        "abc2 = '45'\n",
        "abc3 = 55.95\n",
        "xyz = 5.0\n",
        "abc4 = int(abc2)\n",
        "print(abc + abc4)\n",
        "print(abc + int(abc2))\n",
        "print(float(abc) + xyz)"
      ],
      "metadata": {
        "colab": {
          "base_uri": "https://localhost:8080/"
        },
        "id": "juX3NYvAfIPk",
        "outputId": "fb814d98-d14a-4851-98c7-f19f309fe71d"
      },
      "execution_count": 27,
      "outputs": [
        {
          "output_type": "stream",
          "name": "stdout",
          "text": [
            "50\n",
            "50\n",
            "10.0\n"
          ]
        }
      ]
    },
    {
      "cell_type": "markdown",
      "source": [
        "# **Operators in Python**"
      ],
      "metadata": {
        "id": "UcfW0-mRgAg7"
      }
    },
    {
      "cell_type": "markdown",
      "source": [
        "![12.png](data:image/png;base64,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)"
      ],
      "metadata": {
        "id": "C5nEcGbzhR1D"
      }
    },
    {
      "cell_type": "code",
      "source": [
        "a= 20\n",
        "b = 3\n",
        "print(a + b, a - b, a * b, a / b)\n",
        "print(a % b, a ** b, a // b)"
      ],
      "metadata": {
        "colab": {
          "base_uri": "https://localhost:8080/"
        },
        "id": "sK67e9T5hqaC",
        "outputId": "2548098e-d707-4faf-c85d-513cf4ff9247"
      },
      "execution_count": 28,
      "outputs": [
        {
          "output_type": "stream",
          "name": "stdout",
          "text": [
            "23 17 60 6.666666666666667\n",
            "2 8000 6\n"
          ]
        }
      ]
    },
    {
      "cell_type": "code",
      "source": [
        "a, b, c, d, e = 30, 67, 32, 22, 45\n",
        "print(a, b, c, d, e)\n",
        "a += 5\n",
        "b -= 53\n",
        "c **= 3\n",
        "d %= 10\n",
        "e //= 3\n",
        "print(a, b, c, d, e)"
      ],
      "metadata": {
        "colab": {
          "base_uri": "https://localhost:8080/"
        },
        "id": "fNpKSb1QjPTg",
        "outputId": "ec051e0b-7984-4fc2-df7e-883eb1041113"
      },
      "execution_count": 29,
      "outputs": [
        {
          "output_type": "stream",
          "name": "stdout",
          "text": [
            "30 67 32 22 45\n",
            "35 14 32768 2 15\n"
          ]
        }
      ]
    },
    {
      "cell_type": "code",
      "source": [
        "a = 45\n",
        "b = 23\n",
        "print(\"a == b is\", a == b)\n",
        "print(\"a != b is\", a != b)\n",
        "print(\"a > b is\", a > b)\n",
        "print(\"a < b is\", a < b)\n",
        "print(\"a >= b is\", a >= b)\n",
        "print(\"a <= b is\", a <= b)"
      ],
      "metadata": {
        "colab": {
          "base_uri": "https://localhost:8080/"
        },
        "id": "VVIF4SMej7C8",
        "outputId": "3e6fdb22-3024-4c5e-f2d2-b5ee01555f01"
      },
      "execution_count": 30,
      "outputs": [
        {
          "output_type": "stream",
          "name": "stdout",
          "text": [
            "a == b is False\n",
            "a != b is True\n",
            "a > b is True\n",
            "a < b is False\n",
            "a >= b is True\n",
            "a <= b is False\n"
          ]
        }
      ]
    },
    {
      "cell_type": "code",
      "source": [
        "a = 45\n",
        "b = 23\n",
        "print(a > 33 and b > 33)\n",
        "print(a > 33 and b < 33)\n",
        "print(a >= 45 and b <= 23)\n",
        "print(a < 100 or b > 50)\n",
        "print(a < 1 or b < 11)\n",
        "print(a < 1 and b < 11)\n",
        "print(not (a > 0 and b > 0))"
      ],
      "metadata": {
        "colab": {
          "base_uri": "https://localhost:8080/"
        },
        "id": "Wk1bMxxIkKq9",
        "outputId": "499e25d9-369f-4658-e484-5bdd8ab32dfe"
      },
      "execution_count": 31,
      "outputs": [
        {
          "output_type": "stream",
          "name": "stdout",
          "text": [
            "False\n",
            "True\n",
            "True\n",
            "True\n",
            "False\n",
            "False\n",
            "False\n"
          ]
        }
      ]
    },
    {
      "cell_type": "markdown",
      "source": [
        "# **Input Function**"
      ],
      "metadata": {
        "id": "MJ4S7TEUknzB"
      }
    },
    {
      "cell_type": "code",
      "source": [
        "# Input Function in Python:\n",
        "print(\"Enter your name : \")\n",
        "name = input() # It will take input from user\n",
        "print(\"Your Name is\", name) # It will show the name\n",
        "xyz = input(\"Enter your age : \")\n",
        "print(\"Your age is\", xyz)"
      ],
      "metadata": {
        "colab": {
          "base_uri": "https://localhost:8080/"
        },
        "id": "3w--ex9IkrSE",
        "outputId": "10f4139a-f854-42d0-d992-8083b80fc97d"
      },
      "execution_count": 32,
      "outputs": [
        {
          "output_type": "stream",
          "name": "stdout",
          "text": [
            "Enter your name : \n",
            "Ali\n",
            "Your Name is Ali\n",
            "Enter your age : 25\n",
            "Your age is 25\n"
          ]
        }
      ]
    },
    {
      "cell_type": "markdown",
      "source": [
        "# **IF, ELSE and ELIF Conditions**"
      ],
      "metadata": {
        "id": "AThUeNyplgTf"
      }
    },
    {
      "cell_type": "code",
      "source": [
        "var1 = 5\n",
        "var2 = 10\n",
        "if var1 > var2:\n",
        "    print(\"Var 1 is greater.\")\n",
        "else:\n",
        "    print(\"Var 2 is greater.\")\n",
        "# Example no 2--------------------------------\n",
        "var1 = 5\n",
        "var2 = 5\n",
        "if var1 > var2:\n",
        "    print(\"Var 1 is greater.\")\n",
        "elif var2 > var1:\n",
        "    print(\"Var 2 is greater.\")\n",
        "else:\n",
        "    print(\"Both Are Equal\")"
      ],
      "metadata": {
        "colab": {
          "base_uri": "https://localhost:8080/"
        },
        "id": "jlaGxIBflkHt",
        "outputId": "168e7621-534d-4d28-ed73-976f2e9c4453"
      },
      "execution_count": 35,
      "outputs": [
        {
          "output_type": "stream",
          "name": "stdout",
          "text": [
            "Var 2 is greater.\n",
            "Both Are Equal\n"
          ]
        }
      ]
    },
    {
      "cell_type": "code",
      "source": [
        "a = 99\n",
        "b = 33\n",
        "c = 412\n",
        "if  a > b and c > a:\n",
        "    print(\"Both conditions are True\")\n",
        "elif a > b or a > c:\n",
        "    print(\"At least one of the conditions is True\")"
      ],
      "metadata": {
        "colab": {
          "base_uri": "https://localhost:8080/"
        },
        "id": "G9Egxu3nmbDb",
        "outputId": "614c0fe0-6f61-4f55-c59d-e74fc33eff6e"
      },
      "execution_count": 41,
      "outputs": [
        {
          "output_type": "stream",
          "name": "stdout",
          "text": [
            "Both conditions are True\n"
          ]
        }
      ]
    },
    {
      "cell_type": "code",
      "source": [
        "a = 41\n",
        "b = 33\n",
        "c = 500\n",
        "if a > b or a > c:\n",
        "   print(\"At least one of the conditions is True\")"
      ],
      "metadata": {
        "colab": {
          "base_uri": "https://localhost:8080/"
        },
        "id": "laF80HJmnni0",
        "outputId": "54980f41-5030-4f29-f138-b007093b4757"
      },
      "execution_count": 42,
      "outputs": [
        {
          "output_type": "stream",
          "name": "stdout",
          "text": [
            "At least one of the conditions is True\n"
          ]
        }
      ]
    },
    {
      "cell_type": "code",
      "source": [
        "num = int(input(\"Enter a number: \"))\n",
        "\n",
        "if num > 0:\n",
        "  print(\"Positive number\")\n",
        "elif num == 0:\n",
        "  print(\"Zero\")\n",
        "else:\n",
        "  print(\"Negative number\")\n"
      ],
      "metadata": {
        "colab": {
          "base_uri": "https://localhost:8080/"
        },
        "id": "UQgbAGtDo_Xx",
        "outputId": "53e53901-bcac-4962-d033-32de8ad5a458"
      },
      "execution_count": 43,
      "outputs": [
        {
          "output_type": "stream",
          "name": "stdout",
          "text": [
            "Enter a number: 4\n",
            "Positive number\n"
          ]
        }
      ]
    },
    {
      "cell_type": "markdown",
      "source": [
        "# **WHILE LOOP**"
      ],
      "metadata": {
        "id": "cDNWsNJdplcL"
      }
    },
    {
      "cell_type": "code",
      "source": [
        "count = 0\n",
        "while count < 9:\n",
        "   print(\"The count is : \", count)\n",
        "   count = count + 1\n",
        "print(\"Good bye!\")"
      ],
      "metadata": {
        "colab": {
          "base_uri": "https://localhost:8080/"
        },
        "id": "AEVXY-hmp4Je",
        "outputId": "f186bd84-ed5c-45d4-a52a-1d17eb9059c9"
      },
      "execution_count": 44,
      "outputs": [
        {
          "output_type": "stream",
          "name": "stdout",
          "text": [
            "The count is :  0\n",
            "The count is :  1\n",
            "The count is :  2\n",
            "The count is :  3\n",
            "The count is :  4\n",
            "The count is :  5\n",
            "The count is :  6\n",
            "The count is :  7\n",
            "The count is :  8\n",
            "Good bye!\n"
          ]
        }
      ]
    },
    {
      "cell_type": "code",
      "source": [
        "x = 1\n",
        "while x == 1: # This shows an infinite loop\n",
        "num = input(\"Enter a number :\")\n",
        "print(\"You entered: \", num)\n",
        "print(\"Good bye!\")"
      ],
      "metadata": {
        "id": "2WmCu26VqR3_"
      },
      "execution_count": null,
      "outputs": []
    },
    {
      "cell_type": "code",
      "source": [
        "count = 0\n",
        "while count < 9:\n",
        "  if count == 3:\n",
        "    break\n",
        "  print('The count is:', count)\n",
        "  count = count + 1\n",
        "print(\"Good bye!\")"
      ],
      "metadata": {
        "colab": {
          "base_uri": "https://localhost:8080/"
        },
        "id": "MGK-rswmrZ7j",
        "outputId": "58e78eed-f643-4316-c5ec-a829c7a64e5e"
      },
      "execution_count": 47,
      "outputs": [
        {
          "output_type": "stream",
          "name": "stdout",
          "text": [
            "The count is: 0\n",
            "The count is: 1\n",
            "The count is: 2\n",
            "Good bye!\n"
          ]
        }
      ]
    },
    {
      "cell_type": "code",
      "source": [
        "count = 0\n",
        "while count < 9:\n",
        "   count = count + 1\n",
        "   if count == 4:\n",
        "      continue\n",
        "print('The count is:', count)"
      ],
      "metadata": {
        "colab": {
          "base_uri": "https://localhost:8080/"
        },
        "id": "MgaeypPxr4gV",
        "outputId": "e3f988ca-cb9d-4557-dd55-a7fd7bd9e30a"
      },
      "execution_count": 48,
      "outputs": [
        {
          "output_type": "stream",
          "name": "stdout",
          "text": [
            "The count is: 9\n"
          ]
        }
      ]
    },
    {
      "cell_type": "markdown",
      "source": [
        "# **List**"
      ],
      "metadata": {
        "id": "PF2OP35ntd59"
      }
    },
    {
      "cell_type": "code",
      "source": [
        "# Creating a list\n",
        "my_list = [1, 2, 3, 4, 5]\n",
        "\n",
        "# append()\n",
        "my_list.append(6)\n",
        "print(\"After append:\", my_list)\n",
        "\n",
        "# clear()\n",
        "my_list.clear()\n",
        "print(\"After clear:\", my_list)\n",
        "\n",
        "# Re-creating the list for further operations\n",
        "my_list = [1, 2, 3, 4, 5]\n",
        "\n",
        "# copy()\n",
        "copied_list = my_list.copy()\n",
        "print(\"Copied list:\", copied_list)\n",
        "\n",
        "# count()\n",
        "count_of_2 = my_list.count(2)\n",
        "print(\"Count of 2:\", count_of_2)\n",
        "\n",
        "# extend()\n",
        "my_list.extend([6, 7])\n",
        "print(\"After extend:\", my_list)\n",
        "\n",
        "# index()\n",
        "index_of_3 = my_list.index(3)\n",
        "print(\"Index of 3:\", index_of_3)\n",
        "\n",
        "# insert()\n",
        "my_list.insert(2, 2.5)\n",
        "print(\"After insert:\", my_list)\n",
        "\n",
        "# pop()\n",
        "popped_element = my_list.pop()\n",
        "print(\"After pop:\", my_list, \"Popped element:\", popped_element)\n",
        "\n",
        "# remove()\n",
        "my_list.remove(2.5)\n",
        "print(\"After remove:\", my_list)\n",
        "\n",
        "# reverse()\n",
        "my_list.reverse()\n",
        "print(\"After reverse:\", my_list)\n",
        "\n",
        "# sort()\n",
        "my_list.sort()\n",
        "print(\"After sort:\", my_list)\n",
        "\n",
        "# len()\n",
        "length = len(my_list)\n",
        "print(\"Length:\", length)\n",
        "\n",
        "# list concatenation\n",
        "concatenated_list = my_list + [8, 9]\n",
        "print(\"Concatenated list:\", concatenated_list)\n",
        "\n",
        "# list repetition\n",
        "repeated_list = my_list * 2\n",
        "print(\"Repeated list:\", repeated_list)\n",
        "\n",
        "# element in list\n",
        "is_in_list = 3 in my_list\n",
        "print(\"Is 3 in list:\", is_in_list)\n",
        "\n",
        "# element not in list\n",
        "is_not_in_list = 10 not in my_list\n",
        "print(\"Is 10 not in list:\", is_not_in_list)\n",
        "\n",
        "# min()\n",
        "min_value = min(my_list)\n",
        "print(\"Min value:\", min_value)\n",
        "\n",
        "# max()\n",
        "max_value = max(my_list)\n",
        "print(\"Max value:\", max_value)\n",
        "\n",
        "# sum()\n",
        "sum_value = sum(my_list)\n",
        "print(\"Sum of elements:\", sum_value)\n",
        "\n",
        "# list slicing\n",
        "sliced_list = my_list[1:4]\n",
        "print(\"Sliced list:\", sliced_list)\n",
        "\n",
        "# list slicing with step\n",
        "sliced_list_with_step = my_list[::2]\n",
        "print(\"Sliced list with step:\", sliced_list_with_step)\n"
      ],
      "metadata": {
        "colab": {
          "base_uri": "https://localhost:8080/"
        },
        "id": "JDrai6-TeaNJ",
        "outputId": "45d07f60-c749-4cbb-879d-8348b0662e00"
      },
      "execution_count": 3,
      "outputs": [
        {
          "output_type": "stream",
          "name": "stdout",
          "text": [
            "After append: [1, 2, 3, 4, 5, 6]\n",
            "After clear: []\n",
            "Copied list: [1, 2, 3, 4, 5]\n",
            "Count of 2: 1\n",
            "After extend: [1, 2, 3, 4, 5, 6, 7]\n",
            "Index of 3: 2\n",
            "After insert: [1, 2, 2.5, 3, 4, 5, 6, 7]\n",
            "After pop: [1, 2, 2.5, 3, 4, 5, 6] Popped element: 7\n",
            "After remove: [1, 2, 3, 4, 5, 6]\n",
            "After reverse: [6, 5, 4, 3, 2, 1]\n",
            "After sort: [1, 2, 3, 4, 5, 6]\n",
            "Length: 6\n",
            "Concatenated list: [1, 2, 3, 4, 5, 6, 8, 9]\n",
            "Repeated list: [1, 2, 3, 4, 5, 6, 1, 2, 3, 4, 5, 6]\n",
            "Is 3 in list: True\n",
            "Is 10 not in list: True\n",
            "Min value: 1\n",
            "Max value: 6\n",
            "Sum of elements: 21\n",
            "Sliced list: [2, 3, 4]\n",
            "Sliced list with step: [1, 3, 5]\n"
          ]
        }
      ]
    },
    {
      "cell_type": "markdown",
      "source": [
        "# **Tuples**"
      ],
      "metadata": {
        "id": "g3pX00lhukkH"
      }
    },
    {
      "cell_type": "code",
      "source": [
        "# Defining a Tuple\n",
        "my_tuple = (10, 20, 30, 20)\n",
        "\n",
        "# Accessing Tuple Elements\n",
        "print(my_tuple[1])  # Output: 20\n",
        "\n",
        "# Tuples are Immutable\n",
        "# my_tuple[1] = 25  # This will raise an error\n",
        "\n",
        "# Tuple Methods\n",
        "print(my_tuple.index(20))  # Returns the index of the first occurrence of 20 (Output: 1)\n",
        "\n",
        "print(my_tuple.count(20))  # Returns the number of occurrences of 20 (Output: 2)\n"
      ],
      "metadata": {
        "colab": {
          "base_uri": "https://localhost:8080/"
        },
        "id": "gcDoUtUqusdK",
        "outputId": "b4ed4928-3be5-4b8b-84e7-91e8e0c86d5c"
      },
      "execution_count": 51,
      "outputs": [
        {
          "output_type": "stream",
          "name": "stdout",
          "text": [
            "20\n",
            "1\n",
            "2\n"
          ]
        }
      ]
    },
    {
      "cell_type": "code",
      "source": [
        "# Creating a tuple\n",
        "my_tuple = (1, 2, 3, 4, 5)\n",
        "\n",
        "# count()\n",
        "count_of_2 = my_tuple.count(2)\n",
        "print(\"Count of 2:\", count_of_2)\n",
        "\n",
        "# index()\n",
        "index_of_3 = my_tuple.index(3)\n",
        "print(\"Index of 3:\", index_of_3)\n",
        "\n",
        "# len()\n",
        "length = len(my_tuple)\n",
        "print(\"Length:\", length)\n",
        "\n",
        "# max()\n",
        "max_value = max(my_tuple)\n",
        "print(\"Max value:\", max_value)\n",
        "\n",
        "# min()\n",
        "min_value = min(my_tuple)\n",
        "print(\"Min value:\", min_value)\n",
        "\n",
        "# sum()\n",
        "sum_value = sum(my_tuple)\n",
        "print(\"Sum of elements:\", sum_value)\n",
        "\n",
        "# tuple concatenation\n",
        "tuple1 = (1, 2)\n",
        "tuple2 = (3, 4)\n",
        "concatenated_tuple = tuple1 + tuple2\n",
        "print(\"Concatenated tuple:\", concatenated_tuple)\n",
        "\n",
        "# tuple repetition\n",
        "repeated_tuple = my_tuple * 3\n",
        "print(\"Repeated tuple:\", repeated_tuple)\n",
        "\n",
        "# tuple slicing\n",
        "sliced_tuple = my_tuple[1:3]\n",
        "print(\"Sliced tuple:\", sliced_tuple)\n",
        "\n",
        "# tuple slicing with step\n",
        "sliced_tuple_with_step = my_tuple[::2]\n",
        "print(\"Sliced tuple with step:\", sliced_tuple_with_step)\n",
        "\n",
        "# tuple unpacking\n",
        "a, b, c, d, e = my_tuple\n",
        "print(\"Unpacked values:\", a, b, c, d, e)\n",
        "\n",
        "# nested tuples\n",
        "nested_tuple = ((1, 2), (3, 4))\n",
        "print(\"Nested tuple:\", nested_tuple)\n",
        "\n",
        "# tuple comprehension (using generator expression)\n",
        "comprehension_tuple = tuple(x for x in range(5))\n",
        "print(\"Tuple from comprehension:\", comprehension_tuple)\n"
      ],
      "metadata": {
        "colab": {
          "base_uri": "https://localhost:8080/"
        },
        "id": "HbVoJIKDf6QW",
        "outputId": "ab14f7dc-c17f-49be-b08e-2a71003dd5ff"
      },
      "execution_count": 4,
      "outputs": [
        {
          "output_type": "stream",
          "name": "stdout",
          "text": [
            "Count of 2: 1\n",
            "Index of 3: 2\n",
            "Length: 5\n",
            "Max value: 5\n",
            "Min value: 1\n",
            "Sum of elements: 15\n",
            "Concatenated tuple: (1, 2, 3, 4)\n",
            "Repeated tuple: (1, 2, 3, 4, 5, 1, 2, 3, 4, 5, 1, 2, 3, 4, 5)\n",
            "Sliced tuple: (2, 3)\n",
            "Sliced tuple with step: (1, 3, 5)\n",
            "Unpacked values: 1 2 3 4 5\n",
            "Nested tuple: ((1, 2), (3, 4))\n",
            "Tuple from comprehension: (0, 1, 2, 3, 4)\n"
          ]
        }
      ]
    },
    {
      "cell_type": "markdown",
      "source": [
        "# **Dictionaries**"
      ],
      "metadata": {
        "id": "M50hmVe2u2pR"
      }
    },
    {
      "cell_type": "code",
      "source": [
        "# Creating a dictionary\n",
        "my_dict = {'a': 1, 'b': 2, 'c': 3}\n",
        "\n",
        "# clear()\n",
        "my_dict.clear()\n",
        "print(\"After clear:\", my_dict)\n",
        "\n",
        "# Re-creating the dictionary for further operations\n",
        "my_dict = {'a': 1, 'b': 2, 'c': 3}\n",
        "\n",
        "# copy()\n",
        "copied_dict = my_dict.copy()\n",
        "print(\"Copied dictionary:\", copied_dict)\n",
        "\n",
        "# fromkeys()\n",
        "keys = ['x', 'y', 'z']\n",
        "new_dict = dict.fromkeys(keys, 0)\n",
        "print(\"Fromkeys:\", new_dict)\n",
        "\n",
        "# get()\n",
        "value = my_dict.get('b')\n",
        "print(\"Get 'b':\", value)\n",
        "\n",
        "# items()\n",
        "items = my_dict.items()\n",
        "print(\"Items:\", items)\n",
        "\n",
        "# keys()\n",
        "keys = my_dict.keys()\n",
        "print(\"Keys:\", keys)\n",
        "\n",
        "# pop()\n",
        "popped_value = my_dict.pop('b')\n",
        "print(\"After pop 'b':\", my_dict, \"Popped value:\", popped_value)\n",
        "\n",
        "# popitem()\n",
        "popped_item = my_dict.popitem()\n",
        "print(\"After popitem:\", my_dict, \"Popped item:\", popped_item)\n",
        "\n",
        "# setdefault()\n",
        "default_value = my_dict.setdefault('d', 4)\n",
        "print(\"After setdefault 'd':\", my_dict, \"Default value:\", default_value)\n",
        "\n",
        "# update()\n",
        "my_dict.update({'e': 5, 'f': 6})\n",
        "print(\"After update:\", my_dict)\n",
        "\n",
        "# values()\n",
        "values = my_dict.values()\n",
        "print(\"Values:\", values)\n",
        "\n",
        "# len()\n",
        "length = len(my_dict)\n",
        "print(\"Length:\", length)\n",
        "\n",
        "# del\n",
        "del my_dict['a']\n",
        "print(\"After del 'a':\", my_dict)\n",
        "\n",
        "# key in dict\n",
        "is_key_in_dict = 'c' in my_dict\n",
        "print(\"Is 'c' in dictionary:\", is_key_in_dict)\n",
        "\n",
        "# key not in dict\n",
        "is_key_not_in_dict = 'a' not in my_dict\n",
        "print(\"Is 'a' not in dictionary:\", is_key_not_in_dict)\n",
        "\n",
        "# dict[key] = value\n",
        "my_dict['g'] = 7\n",
        "print(\"After adding 'g':\", my_dict)\n",
        "\n",
        "# dict1.update(dict2)\n",
        "another_dict = {'h': 8, 'i': 9}\n",
        "my_dict.update(another_dict)\n",
        "print(\"After merging another_dict:\", my_dict)\n"
      ],
      "metadata": {
        "colab": {
          "base_uri": "https://localhost:8080/"
        },
        "id": "YoTvgRKGdBUr",
        "outputId": "d692950c-8d6c-4100-8b0a-ae29b78a2ed0"
      },
      "execution_count": 2,
      "outputs": [
        {
          "output_type": "stream",
          "name": "stdout",
          "text": [
            "After clear: {}\n",
            "Copied dictionary: {'a': 1, 'b': 2, 'c': 3}\n",
            "Fromkeys: {'x': 0, 'y': 0, 'z': 0}\n",
            "Get 'b': 2\n",
            "Items: dict_items([('a', 1), ('b', 2), ('c', 3)])\n",
            "Keys: dict_keys(['a', 'b', 'c'])\n",
            "After pop 'b': {'a': 1, 'c': 3} Popped value: 2\n",
            "After popitem: {'a': 1} Popped item: ('c', 3)\n",
            "After setdefault 'd': {'a': 1, 'd': 4} Default value: 4\n",
            "After update: {'a': 1, 'd': 4, 'e': 5, 'f': 6}\n",
            "Values: dict_values([1, 4, 5, 6])\n",
            "Length: 4\n",
            "After del 'a': {'d': 4, 'e': 5, 'f': 6}\n",
            "Is 'c' in dictionary: False\n",
            "Is 'a' not in dictionary: True\n",
            "After adding 'g': {'d': 4, 'e': 5, 'f': 6, 'g': 7}\n",
            "After merging another_dict: {'d': 4, 'e': 5, 'f': 6, 'g': 7, 'h': 8, 'i': 9}\n"
          ]
        }
      ]
    },
    {
      "cell_type": "markdown",
      "source": [
        "# **Set**"
      ],
      "metadata": {
        "id": "SYPVKpuLbXKA"
      }
    },
    {
      "cell_type": "code",
      "source": [
        "# Creating a set\n",
        "my_set = {1, 2, 3, 4, 5}\n",
        "\n",
        "# Adding an element\n",
        "my_set.add(6)\n",
        "print(\"After add:\", my_set)\n",
        "\n",
        "# Removing an element\n",
        "my_set.remove(3)\n",
        "print(\"After remove:\", my_set)\n",
        "\n",
        "# Discarding an element\n",
        "my_set.discard(2)\n",
        "print(\"After discard:\", my_set)\n",
        "\n",
        "# Popping an element\n",
        "popped_element = my_set.pop()\n",
        "print(\"After pop:\", my_set, \"Popped element:\", popped_element)\n",
        "\n",
        "# Clearing the set\n",
        "my_set.clear()\n",
        "print(\"After clear:\", my_set)\n",
        "\n",
        "# Re-creating the set for further operations\n",
        "my_set = {1, 2, 3, 4, 5}\n",
        "another_set = {4, 5, 6, 7, 8}\n",
        "\n",
        "# Union\n",
        "union_set = my_set.union(another_set)\n",
        "print(\"Union:\", union_set)\n",
        "\n",
        "# Intersection\n",
        "intersection_set = my_set.intersection(another_set)\n",
        "print(\"Intersection:\", intersection_set)\n",
        "\n",
        "# Difference\n",
        "difference_set = my_set.difference(another_set)\n",
        "print(\"Difference:\", difference_set)\n",
        "\n",
        "# Symmetric Difference\n",
        "symmetric_difference_set = my_set.symmetric_difference(another_set)\n",
        "print(\"Symmetric Difference:\", symmetric_difference_set)\n",
        "\n",
        "# Subset\n",
        "is_subset = {1, 2}.issubset(my_set)\n",
        "print(\"Is subset:\", is_subset)\n",
        "\n",
        "# Superset\n",
        "is_superset = my_set.issuperset({1, 2})\n",
        "print(\"Is superset:\", is_superset)\n",
        "\n",
        "# Disjoint\n",
        "is_disjoint = my_set.isdisjoint({6, 7})\n",
        "print(\"Is disjoint:\", is_disjoint)\n",
        "\n",
        "# Copying the set\n",
        "copied_set = my_set.copy()\n",
        "print(\"Copied set:\", copied_set)\n",
        "\n",
        "# Updating the set\n",
        "my_set.update({6, 7})\n",
        "print(\"After update:\", my_set)\n",
        "\n",
        "# Intersection update\n",
        "my_set.intersection_update({4, 5, 6, 7})\n",
        "print(\"After intersection update:\", my_set)\n",
        "\n",
        "# Difference update\n",
        "my_set.difference_update({6})\n",
        "print(\"After difference update:\", my_set)\n",
        "\n",
        "# Symmetric difference update\n",
        "my_set.symmetric_difference_update({5, 7})\n",
        "print(\"After symmetric difference update:\", my_set)\n",
        "\n",
        "# Creating a frozenset\n",
        "frozen_set = frozenset(my_set)\n",
        "print(\"Frozen set:\", frozen_set)\n"
      ],
      "metadata": {
        "colab": {
          "base_uri": "https://localhost:8080/"
        },
        "id": "88tmk8c-bd0k",
        "outputId": "1762d04d-f92f-48cd-d974-8b5e91d6b822"
      },
      "execution_count": 1,
      "outputs": [
        {
          "output_type": "stream",
          "name": "stdout",
          "text": [
            "After add: {1, 2, 3, 4, 5, 6}\n",
            "After remove: {1, 2, 4, 5, 6}\n",
            "After discard: {1, 4, 5, 6}\n",
            "After pop: {4, 5, 6} Popped element: 1\n",
            "After clear: set()\n",
            "Union: {1, 2, 3, 4, 5, 6, 7, 8}\n",
            "Intersection: {4, 5}\n",
            "Difference: {1, 2, 3}\n",
            "Symmetric Difference: {1, 2, 3, 6, 7, 8}\n",
            "Is subset: True\n",
            "Is superset: True\n",
            "Is disjoint: True\n",
            "Copied set: {1, 2, 3, 4, 5}\n",
            "After update: {1, 2, 3, 4, 5, 6, 7}\n",
            "After intersection update: {4, 5, 6, 7}\n",
            "After difference update: {4, 5, 7}\n",
            "After symmetric difference update: {4}\n",
            "Frozen set: frozenset({4})\n"
          ]
        }
      ]
    },
    {
      "cell_type": "markdown",
      "source": [
        "# **String**"
      ],
      "metadata": {
        "id": "iTuPVIHbi4zP"
      }
    },
    {
      "cell_type": "code",
      "source": [
        "# Creating a string\n",
        "my_string = \"Hello, World!\"\n",
        "\n",
        "# capitalize()\n",
        "capitalized_string = my_string.capitalize()\n",
        "print(\"Capitalized:\", capitalized_string)\n",
        "\n",
        "# casefold()\n",
        "casefolded_string = my_string.casefold()\n",
        "print(\"Casefolded:\", casefolded_string)\n",
        "\n",
        "# center()\n",
        "centered_string = my_string.center(20, '*')\n",
        "print(\"Centered:\", centered_string)\n",
        "\n",
        "# count()\n",
        "count_l = my_string.count('l')\n",
        "print(\"Count of 'l':\", count_l)\n",
        "\n",
        "# encode()\n",
        "encoded_string = my_string.encode()\n",
        "print(\"Encoded:\", encoded_string)\n",
        "\n",
        "# endswith()\n",
        "ends_with = my_string.endswith('!')\n",
        "print(\"Ends with '!':\", ends_with)\n",
        "\n",
        "# expandtabs()\n",
        "tab_string = \"Hello\\tWorld\"\n",
        "expanded_tabs = tab_string.expandtabs(4)\n",
        "print(\"Expanded tabs:\", expanded_tabs)\n",
        "\n",
        "# find()\n",
        "find_o = my_string.find('o')\n",
        "print(\"Find 'o':\", find_o)\n",
        "\n",
        "# format()\n",
        "formatted_string = \"Hello, {}!\".format(\"Alice\")\n",
        "print(\"Formatted:\", formatted_string)\n",
        "\n",
        "# format_map()\n",
        "formatted_map_string = \"{name} is {age} years old\".format_map({\"name\": \"Alice\", \"age\": 30})\n",
        "print(\"Formatted map:\", formatted_map_string)\n",
        "\n",
        "# index()\n",
        "index_o = my_string.index('o')\n",
        "print(\"Index of 'o':\", index_o)\n",
        "\n",
        "# isalnum()\n",
        "is_alnum = my_string.isalnum()\n",
        "print(\"Is alnum:\", is_alnum)\n",
        "\n",
        "# isalpha()\n",
        "is_alpha = my_string.isalpha()\n",
        "print(\"Is alpha:\", is_alpha)\n",
        "\n",
        "# isascii()\n",
        "is_ascii = my_string.isascii()\n",
        "print(\"Is ASCII:\", is_ascii)\n",
        "\n",
        "# isdecimal()\n",
        "is_decimal = \"12345\".isdecimal()\n",
        "print(\"Is decimal:\", is_decimal)\n",
        "\n",
        "# isdigit()\n",
        "is_digit = \"12345\".isdigit()\n",
        "print(\"Is digit:\", is_digit)\n",
        "\n",
        "# isidentifier()\n",
        "is_identifier = \"hello_world\".isidentifier()\n",
        "print(\"Is identifier:\", is_identifier)\n",
        "\n",
        "# islower()\n",
        "is_lower = my_string.islower()\n",
        "print(\"Is lower:\", is_lower)\n",
        "\n",
        "# isnumeric()\n",
        "is_numeric = \"12345\".isnumeric()\n",
        "print(\"Is numeric:\", is_numeric)\n",
        "\n",
        "# isprintable()\n",
        "is_printable = my_string.isprintable()\n",
        "print(\"Is printable:\", is_printable)\n",
        "\n",
        "# isspace()\n",
        "is_space = \"   \".isspace()\n",
        "print(\"Is space:\", is_space)\n",
        "\n",
        "# istitle()\n",
        "is_title = \"Hello World\".istitle()\n",
        "print(\"Is title:\", is_title)\n",
        "\n",
        "# isupper()\n",
        "is_upper = my_string.isupper()\n",
        "print(\"Is upper:\", is_upper)\n",
        "\n",
        "# join()\n",
        "joined_string = \"-\".join([\"Hello\", \"World\"])\n",
        "print(\"Joined:\", joined_string)\n",
        "\n",
        "# ljust()\n",
        "left_justified = my_string.ljust(20, '*')\n",
        "print(\"Left justified:\", left_justified)\n",
        "\n",
        "# lower()\n",
        "lowered_string = my_string.lower()\n",
        "print(\"Lowered:\", lowered_string)\n",
        "\n",
        "# lstrip()\n",
        "left_stripped = \"   Hello\".lstrip()\n",
        "print(\"Left stripped:\", left_stripped)\n",
        "\n",
        "# maketrans() and translate()\n",
        "translation_table = str.maketrans(\"Helo\", \"1234\")\n",
        "translated_string = my_string.translate(translation_table)\n",
        "print(\"Translated:\", translated_string)\n",
        "\n",
        "# partition()\n",
        "partitioned_string = my_string.partition(',')\n",
        "print(\"Partitioned:\", partitioned_string)\n",
        "\n",
        "# replace()\n",
        "replaced_string = my_string.replace(\"World\", \"Python\")\n",
        "print(\"Replaced:\", replaced_string)\n",
        "\n",
        "# rfind()\n",
        "rfind_o = my_string.rfind('o')\n",
        "print(\"Reverse find 'o':\", rfind_o)\n",
        "\n",
        "# rindex()\n",
        "rindex_o = my_string.rindex('o')\n",
        "print(\"Reverse index of 'o':\", rindex_o)\n",
        "\n",
        "# rjust()\n",
        "right_justified = my_string.rjust(20, '*')\n",
        "print(\"Right justified:\", right_justified)\n",
        "\n",
        "# rpartition()\n",
        "rpartitioned_string = my_string.rpartition(',')\n",
        "print(\"Reverse partitioned:\", rpartitioned_string)\n",
        "\n",
        "# rsplit()\n",
        "rsplit_string = my_string.rsplit(' ', 1)\n",
        "print(\"Reverse split:\", rsplit_string)\n",
        "\n",
        "# rstrip()\n",
        "right_stripped = \"Hello   \".rstrip()\n",
        "print(\"Right stripped:\", right_stripped)\n",
        "\n",
        "# split()\n",
        "split_string = my_string.split(' ')\n",
        "print(\"Split:\", split_string)\n",
        "\n",
        "# splitlines()\n",
        "split_lines = \"Hello\\nWorld\".splitlines()\n",
        "print(\"Split lines:\", split_lines)\n",
        "\n",
        "# startswith()\n",
        "starts_with = my_string.startswith('Hello')\n",
        "print(\"Starts with 'Hello':\", starts_with)\n",
        "\n",
        "# strip()\n",
        "stripped_string = \"   Hello   \".strip()\n",
        "print(\"Stripped:\", stripped_string)\n",
        "\n",
        "# swapcase()\n",
        "swapped_case = my_string.swapcase()\n",
        "print(\"Swap case:\", swapped_case)\n",
        "\n",
        "# title()\n",
        "titled_string = my_string.title()\n",
        "print(\"Titled:\", titled_string)\n",
        "\n",
        "# upper()\n",
        "upper_string = my_string.upper()\n",
        "print(\"Upper:\", upper_string)\n",
        "\n",
        "# zfill()\n",
        "zero_filled = \"42\".zfill(5)\n",
        "print(\"Zero filled:\", zero_filled)\n",
        "\n",
        "# String operations\n",
        "# len()\n",
        "length = len(my_string)\n",
        "print(\"Length:\", length)\n",
        "\n",
        "# string concatenation\n",
        "concatenated_string = my_string + \" How are you?\"\n",
        "print(\"Concatenated:\", concatenated_string)\n",
        "\n",
        "# string repetition\n",
        "repeated_string = my_string * 3\n",
        "print(\"Repeated:\", repeated_string)\n",
        "\n",
        "# string indexing\n",
        "char_at_index = my_string[1]\n",
        "print(\"Character at index 1:\", char_at_index)\n",
        "\n",
        "# string slicing\n",
        "sliced_string = my_string[1:5]\n",
        "print(\"Sliced string:\", sliced_string)\n",
        "\n",
        "# string slicing with step\n",
        "sliced_string_with_step = my_string[::2]\n",
        "print(\"Sliced string with step:\", sliced_string_with_step)\n",
        "\n",
        "# character in string\n",
        "is_char_in_string = 'H' in my_string\n",
        "print(\"Is 'H' in string:\", is_char_in_string)\n",
        "\n",
        "# character not in string\n",
        "is_char_not_in_string = 'Z' not in my_string\n",
        "print(\"Is 'Z' not in string:\", is_char_not_in_string)\n"
      ],
      "metadata": {
        "colab": {
          "base_uri": "https://localhost:8080/"
        },
        "id": "3CGtHwlzi23Y",
        "outputId": "dd042c7a-042c-4bb8-dfe5-bd4c0ecb081a"
      },
      "execution_count": 5,
      "outputs": [
        {
          "output_type": "stream",
          "name": "stdout",
          "text": [
            "Capitalized: Hello, world!\n",
            "Casefolded: hello, world!\n",
            "Centered: ***Hello, World!****\n",
            "Count of 'l': 3\n",
            "Encoded: b'Hello, World!'\n",
            "Ends with '!': True\n",
            "Expanded tabs: Hello   World\n",
            "Find 'o': 4\n",
            "Formatted: Hello, Alice!\n",
            "Formatted map: Alice is 30 years old\n",
            "Index of 'o': 4\n",
            "Is alnum: False\n",
            "Is alpha: False\n",
            "Is ASCII: True\n",
            "Is decimal: True\n",
            "Is digit: True\n",
            "Is identifier: True\n",
            "Is lower: False\n",
            "Is numeric: True\n",
            "Is printable: True\n",
            "Is space: True\n",
            "Is title: True\n",
            "Is upper: False\n",
            "Joined: Hello-World\n",
            "Left justified: Hello, World!*******\n",
            "Lowered: hello, world!\n",
            "Left stripped: Hello\n",
            "Translated: 12334, W4r3d!\n",
            "Partitioned: ('Hello', ',', ' World!')\n",
            "Replaced: Hello, Python!\n",
            "Reverse find 'o': 8\n",
            "Reverse index of 'o': 8\n",
            "Right justified: *******Hello, World!\n",
            "Reverse partitioned: ('Hello', ',', ' World!')\n",
            "Reverse split: ['Hello,', 'World!']\n",
            "Right stripped: Hello\n",
            "Split: ['Hello,', 'World!']\n",
            "Split lines: ['Hello', 'World']\n",
            "Starts with 'Hello': True\n",
            "Stripped: Hello\n",
            "Swap case: hELLO, wORLD!\n",
            "Titled: Hello, World!\n",
            "Upper: HELLO, WORLD!\n",
            "Zero filled: 00042\n",
            "Length: 13\n",
            "Concatenated: Hello, World! How are you?\n",
            "Repeated: Hello, World!Hello, World!Hello, World!\n",
            "Character at index 1: e\n",
            "Sliced string: ello\n",
            "Sliced string with step: Hlo ol!\n",
            "Is 'H' in string: True\n",
            "Is 'Z' not in string: True\n"
          ]
        }
      ]
    },
    {
      "cell_type": "markdown",
      "source": [
        "# **Function**"
      ],
      "metadata": {
        "id": "7hl0puetjIB4"
      }
    },
    {
      "cell_type": "code",
      "source": [
        "#Creating a function\n",
        "def greeting():\n",
        "  print(\"This is a greeting function\")\n",
        "  print(\"I am still in the greet function\")\n",
        "greeting()"
      ],
      "metadata": {
        "colab": {
          "base_uri": "https://localhost:8080/"
        },
        "id": "5ohLz3UojM7w",
        "outputId": "c4eaa90e-fdc1-4448-b18c-41ab54b05664"
      },
      "execution_count": 6,
      "outputs": [
        {
          "output_type": "stream",
          "name": "stdout",
          "text": [
            "This is a greeting function\n",
            "I am still in the greet function\n"
          ]
        }
      ]
    },
    {
      "cell_type": "code",
      "source": [
        "#Write a function that takes input from user and prints the length of a string.\n",
        "def calculateLength():\n",
        "   a = input(\"Enter any sentence = \")\n",
        "   print(f\"Length of sentence is {len(a)}\")\n",
        "calculateLength()\n",
        "calculateLength()"
      ],
      "metadata": {
        "colab": {
          "base_uri": "https://localhost:8080/"
        },
        "id": "94RmiBYKksyX",
        "outputId": "9cdab827-0f24-499a-bee9-7295dd97577c"
      },
      "execution_count": 8,
      "outputs": [
        {
          "output_type": "stream",
          "name": "stdout",
          "text": [
            "Enter any sentence = This is AI class\n",
            "Length of sentence is 16\n",
            "Enter any sentence = We should respect our teacher\n",
            "Length of sentence is 29\n"
          ]
        }
      ]
    },
    {
      "cell_type": "code",
      "source": [
        "#Passing arguments to a function\n",
        "def greeting(name):\n",
        "  print(f\"Hello {name}. Welcome to learn python.\")\n",
        "greeting(\"James\")\n",
        "greeting(\"Vandana\")"
      ],
      "metadata": {
        "colab": {
          "base_uri": "https://localhost:8080/"
        },
        "id": "mBZ6x15YlPDg",
        "outputId": "2e50658e-3b6d-4ca3-f876-4c5411fda93f"
      },
      "execution_count": 9,
      "outputs": [
        {
          "output_type": "stream",
          "name": "stdout",
          "text": [
            "Hello James. Welcome to learn python.\n",
            "Hello Vandana. Welcome to learn python.\n"
          ]
        }
      ]
    },
    {
      "cell_type": "code",
      "source": [
        "#Passing 3 numbers and calculating sum of 3 numbers\n",
        "def total(a, b, c):\n",
        " t = a + b + c\n",
        " print(f\"Total = {t}\")\n",
        "total(10, 20, 30)\n",
        "total(-10, -10, 100)\n",
        "total(50, 50, 200)"
      ],
      "metadata": {
        "colab": {
          "base_uri": "https://localhost:8080/"
        },
        "id": "nJjU3OiMmQQ_",
        "outputId": "97c130ed-a3ad-4403-f647-153d46a68eec"
      },
      "execution_count": 11,
      "outputs": [
        {
          "output_type": "stream",
          "name": "stdout",
          "text": [
            "Total = 60\n",
            "Total = 80\n",
            "Total = 300\n"
          ]
        }
      ]
    },
    {
      "cell_type": "code",
      "source": [
        "#Function with return value\n",
        "def total(a, b, c):\n",
        " t = a + b + c\n",
        " return t\n",
        "a = total(10, 20, 30)\n",
        "print(a)\n",
        "b = total(-10, -10, 100)\n",
        "print(b)\n",
        "print(total(50, 50, 200))"
      ],
      "metadata": {
        "colab": {
          "base_uri": "https://localhost:8080/"
        },
        "id": "2J8MPqeBmswR",
        "outputId": "3cd972cd-ef5b-43c0-9d16-67289059a296"
      },
      "execution_count": 12,
      "outputs": [
        {
          "output_type": "stream",
          "name": "stdout",
          "text": [
            "60\n",
            "80\n",
            "300\n"
          ]
        }
      ]
    },
    {
      "cell_type": "code",
      "source": [
        "def check(n):\n",
        " if n % 2 == 0:\n",
        "  return True\n",
        " else:\n",
        "  return False\n",
        "print(check(45))\n",
        "print(check(100))\n",
        "print(check(10))"
      ],
      "metadata": {
        "colab": {
          "base_uri": "https://localhost:8080/"
        },
        "id": "Se2u9MgGnfoo",
        "outputId": "723af664-169f-4fc4-858e-5132e54dad54"
      },
      "execution_count": 13,
      "outputs": [
        {
          "output_type": "stream",
          "name": "stdout",
          "text": [
            "False\n",
            "True\n",
            "True\n"
          ]
        }
      ]
    },
    {
      "cell_type": "code",
      "source": [
        "# na,e parameter\n",
        "def total(maths, science, computer):\n",
        "  t = maths + science + computer\n",
        "  print(f\"Marks in Maths, Science and Computer are {maths}, \\\n",
        "{science} and {computer}\")\n",
        "  print(f\"Total Marks are {t}\")\n",
        "total(maths=80, science=99, computer=78)\n",
        "total(computer=95, science=44, maths=10)"
      ],
      "metadata": {
        "colab": {
          "base_uri": "https://localhost:8080/"
        },
        "id": "t0gLXnG-oBO6",
        "outputId": "14e3654f-d8ec-4221-c865-07126ab7e5e9"
      },
      "execution_count": 15,
      "outputs": [
        {
          "output_type": "stream",
          "name": "stdout",
          "text": [
            "Marks in Maths, Science and Computer are 80, 99 and 78\n",
            "Total Marks are 257\n",
            "Marks in Maths, Science and Computer are 10, 44 and 95\n",
            "Total Marks are 149\n"
          ]
        }
      ]
    },
    {
      "cell_type": "markdown",
      "source": [
        "# **Some In-Built modules in Python**"
      ],
      "metadata": {
        "id": "kvUfddFMp1NG"
      }
    },
    {
      "cell_type": "code",
      "source": [
        "#importing built-in module math\n",
        "import math\n",
        "# using square root(sqrt) function contained\n",
        "# in math module\n",
        "print(math.sqrt(36))\n",
        "# using pi function contained in math module\n",
        "print(math.pi)\n",
        "# 2 radians = 114.59 degrees\n",
        "print(math.degrees(2))\n",
        "# 60 degrees = 1.04 radians\n",
        "print(math.radians(60))\n",
        "# Sine of 2 radians\n",
        "print(math.sin(2))\n",
        "# Cosine of 0.5 radians\n",
        "print(math.cos(0.5))\n",
        "# Tangent of 0.23 radians\n",
        "print(math.tan(0.23))\n",
        "# 1 * 2 * 3 * 4 = 24\n",
        "print(math.factorial(4))\n",
        "# importing built in module random\n",
        "import random\n",
        "# printing random integer between 0 and 5\n",
        "print(random.randint(0, 5))\n",
        "# print random floating point number between 0 and 1\n",
        "print(random.random())\n",
        "# random number between 0 and 100\n",
        "print(random.random() * 100)\n",
        "List = [1, 4, True, 800, \"python\", 27, \"hello\"]\n",
        "# using choice function in random module for choosing\n",
        "# a random element from a set such as a list\n",
        "print(random.choice(List))\n",
        "# importing built in module datetime\n",
        "import datetime\n",
        "from datetime import date\n",
        "import time"
      ],
      "metadata": {
        "colab": {
          "base_uri": "https://localhost:8080/"
        },
        "id": "iTp4mSYQo2B_",
        "outputId": "61b8161a-ca47-4974-d647-0138c908cf29"
      },
      "execution_count": 16,
      "outputs": [
        {
          "output_type": "stream",
          "name": "stdout",
          "text": [
            "6.0\n",
            "3.141592653589793\n",
            "114.59155902616465\n",
            "1.0471975511965976\n",
            "0.9092974268256817\n",
            "0.8775825618903728\n",
            "0.23414336235146527\n",
            "24\n",
            "3\n",
            "0.3512342764006413\n",
            "58.562484544396874\n",
            "1\n"
          ]
        }
      ]
    },
    {
      "cell_type": "markdown",
      "source": [
        "# **lambda expressions**"
      ],
      "metadata": {
        "id": "5a-3HxO1sPBy"
      }
    },
    {
      "cell_type": "code",
      "source": [
        "# Example 1: Adding Two Numbers\n",
        "add = lambda x, y: x + y\n",
        "print(add(3, 4))  # Output: 7\n",
        "\n",
        "# Example 2: Checking Even or Odd\n",
        "is_even = lambda x: x % 2 == 0\n",
        "print(is_even(10))  # Output: True\n",
        "\n",
        "# Example 3: Sorting a List of Tuples\n",
        "points = [(2, 3), (1, 2), (4, 1), (3, 5)]\n",
        "sorted_points = sorted(points, key=lambda point: point[1])\n",
        "print(sorted_points)  # Output: [(4, 1), (1, 2), (2, 3), (3, 5)]\n",
        "\n",
        "# Example 4: Converting Celsius to Fahrenheit\n",
        "c_to_f = lambda c: (c * 9/5) + 32\n",
        "print(c_to_f(25))  # Output: 77.0\n",
        "\n",
        "# Additional Example: Squaring a Number\n",
        "p = lambda x: x**2\n",
        "print(p(5))  # Output: 25\n"
      ],
      "metadata": {
        "colab": {
          "base_uri": "https://localhost:8080/"
        },
        "id": "tnpiCBUrtkV0",
        "outputId": "b5e7fd6d-edc8-4d47-a666-a0ba23349d44"
      },
      "execution_count": 22,
      "outputs": [
        {
          "output_type": "stream",
          "name": "stdout",
          "text": [
            "7\n",
            "True\n",
            "[(4, 1), (1, 2), (2, 3), (3, 5)]\n",
            "77.0\n",
            "25\n"
          ]
        }
      ]
    },
    {
      "cell_type": "markdown",
      "source": [
        "# **map and filter**"
      ],
      "metadata": {
        "id": "mQC7iY7ru_l7"
      }
    },
    {
      "cell_type": "code",
      "source": [
        "# Example 1: Using map to Label Even Numbers\n",
        "def s(n):\n",
        "    if n % 2 == 0:\n",
        "        return \"even\"\n",
        "\n",
        "numbers = [1, 2, 3, 4, 5, 6, 7, 8, 9]\n",
        "even_numbers = list(map(s, [1, 2, 3, 4, 5, 6, 7, 8, 9, 10]))\n",
        "print(even_numbers)  # Output: [None, 'even', None, 'even', None, 'even', None, 'even', None, 'even']\n",
        "\n",
        "# Example 2: Using filter to Extract Even Numbers\n",
        "def s(n):\n",
        "    if n % 2 == 0:\n",
        "        return \"even\"\n",
        "\n",
        "numbers = [1, 2, 3, 4, 5, 6, 7, 8, 9]\n",
        "even_numbers = list(filter(s, [1, 2, 3, 4, 5, 6, 7, 8, 9, 10]))\n",
        "print(even_numbers)  # Output: [2, 4, 6, 8, 10]\n",
        "\n",
        "# Example 3: Using map to Square Numbers\n",
        "square = lambda x: x**2\n",
        "numbers = [1, 2, 3, 4, 5]\n",
        "squared_numbers = list(map(square, numbers))\n",
        "print(squared_numbers)  # Output: [1, 4, 9, 16, 25]\n",
        "\n",
        "# Example 4: Using filter to Extract Numbers Greater Than 5\n",
        "greater_than_five = lambda x: x > 5\n",
        "numbers = [1, 2, 3, 6, 7, 8, 4, 5]\n",
        "filtered_numbers = list(filter(greater_than_five, numbers))\n",
        "print(filtered_numbers)  # Output: [6, 7, 8]\n",
        "\n",
        "# Example 5: Using map and filter Together\n",
        "double = lambda x: x * 2\n",
        "is_even = lambda x: x % 2 == 0\n",
        "numbers = [1, 2, 3, 4, 5, 6, 7, 8, 9, 10]\n",
        "doubled_even_numbers = list(filter(is_even, map(double, numbers)))\n",
        "print(doubled_even_numbers)  # Output: [4, 8, 12, 16, 20]\n"
      ],
      "metadata": {
        "colab": {
          "base_uri": "https://localhost:8080/"
        },
        "id": "-8xO0uCMvEI3",
        "outputId": "4ec27118-807b-4153-e7d4-12317d166c23"
      },
      "execution_count": 23,
      "outputs": [
        {
          "output_type": "stream",
          "name": "stdout",
          "text": [
            "[None, 'even', None, 'even', None, 'even', None, 'even', None, 'even']\n",
            "[2, 4, 6, 8, 10]\n",
            "[1, 4, 9, 16, 25]\n",
            "[6, 7, 8]\n",
            "[2, 4, 6, 8, 10, 12, 14, 16, 18, 20]\n"
          ]
        }
      ]
    },
    {
      "cell_type": "markdown",
      "source": [
        "# **Inner/ nested functions**"
      ],
      "metadata": {
        "id": "U-wlIJ3av6su"
      }
    },
    {
      "cell_type": "code",
      "source": [
        "# Example 1: Simple Nested Function\n",
        "def s():\n",
        "    def p():\n",
        "        print(\"hello world\")\n",
        "    p()\n",
        "\n",
        "s()  # Output: hello world\n",
        "\n",
        "# Example 2: Calculating Factorial\n",
        "def factorial(n):\n",
        "    def inner_factorial(x):\n",
        "        if x == 0:\n",
        "            return 1\n",
        "        else:\n",
        "            return x * inner_factorial(x - 1)\n",
        "    return inner_factorial(n)\n",
        "\n",
        "print(factorial(5))  # Output: 120\n",
        "\n",
        "# Example 3: Greeting Message\n",
        "def greet(name):\n",
        "    def display_message():\n",
        "        return f\"Hello, {name}!\"\n",
        "    return display_message()\n",
        "\n",
        "print(greet(\"Alice\"))  # Output: Hello, Alice!\n",
        "\n",
        "# Example 4: Power Function\n",
        "def power(base):\n",
        "    def exponent(exp):\n",
        "        return base ** exp\n",
        "    return exponent\n",
        "\n",
        "power_of_2 = power(2)\n",
        "print(power_of_2(3))  # Output: 8\n",
        "print(power_of_2(4))  # Output: 16\n"
      ],
      "metadata": {
        "colab": {
          "base_uri": "https://localhost:8080/"
        },
        "id": "t9aGShxWv_UU",
        "outputId": "28085657-ea1f-456c-d7ef-abf9859d84c6"
      },
      "execution_count": 24,
      "outputs": [
        {
          "output_type": "stream",
          "name": "stdout",
          "text": [
            "hello world\n",
            "120\n",
            "Hello, Alice!\n",
            "8\n",
            "16\n"
          ]
        }
      ]
    },
    {
      "cell_type": "markdown",
      "source": [
        "# **file handling / excaption/error handling**"
      ],
      "metadata": {
        "id": "qX2PKFiyxKaJ"
      }
    },
    {
      "cell_type": "code",
      "source": [
        "# Using 'w' mode to create a new file\n",
        "file = open(\"example.txt\", \"w\")\n",
        "file.write(\"Hello, this is a new text file created using open() function.\")\n",
        "file.close()\n",
        "print(\"File 'example.txt' created successfully.\")\n"
      ],
      "metadata": {
        "colab": {
          "base_uri": "https://localhost:8080/"
        },
        "id": "5Nm7iPPaxPEj",
        "outputId": "89fa26ba-712e-4c3c-b83c-ee0ccd02ae38"
      },
      "execution_count": 27,
      "outputs": [
        {
          "output_type": "stream",
          "name": "stdout",
          "text": [
            "File 'example.txt' created successfully.\n"
          ]
        }
      ]
    },
    {
      "cell_type": "code",
      "source": [
        "file = open(\"example.txt\", \"r\")  # Open a file for reading"
      ],
      "metadata": {
        "id": "pRPqga0S0F1S"
      },
      "execution_count": 29,
      "outputs": []
    },
    {
      "cell_type": "code",
      "source": [
        "content = file.read()  # Read the entire file\n"
      ],
      "metadata": {
        "id": "dflD4QwZ0N7W"
      },
      "execution_count": 30,
      "outputs": []
    },
    {
      "cell_type": "code",
      "source": [
        "file = open(\"example.txt\", \"w\")  # Open a file for writing\n",
        "file.write(\"Hello, World!\")\n"
      ],
      "metadata": {
        "colab": {
          "base_uri": "https://localhost:8080/"
        },
        "id": "MIsNfZDu0djg",
        "outputId": "46fff13d-e7bd-4c1d-dce8-e614ef1efe3d"
      },
      "execution_count": 31,
      "outputs": [
        {
          "output_type": "execute_result",
          "data": {
            "text/plain": [
              "13"
            ]
          },
          "metadata": {},
          "execution_count": 31
        }
      ]
    },
    {
      "cell_type": "code",
      "source": [
        "file.close()\n"
      ],
      "metadata": {
        "id": "RNE0e_uM0oIN"
      },
      "execution_count": 32,
      "outputs": []
    },
    {
      "cell_type": "code",
      "source": [
        "# File Handling in Python\n",
        "\n",
        "# Creating and Writing to a File\n",
        "try:\n",
        "    with open(\"example.txt\", \"w\") as file:\n",
        "        file.write(\"Hello, this is a new text file created using file handling in Python.\\n\")\n",
        "        file.write(\"This file demonstrates various file operations.\\n\")\n",
        "    print(\"File 'example.txt' created and written successfully.\")\n",
        "except IOError as e:\n",
        "    print(f\"An error occurred while creating or writing to the file: {e}\")\n",
        "\n",
        "# Reading from a File\n",
        "try:\n",
        "    with open(\"example.txt\", \"r\") as file:\n",
        "        content = file.read()\n",
        "    print(\"File 'example.txt' read successfully. Content:\")\n",
        "    print(content)\n",
        "except FileNotFoundError:\n",
        "    print(\"File 'example.txt' not found.\")\n",
        "except IOError as e:\n",
        "    print(f\"An error occurred while reading the file: {e}\")\n",
        "\n",
        "# Appending to a File\n",
        "try:\n",
        "    with open(\"example.txt\", \"a\") as file:\n",
        "        file.write(\"Appending a new line to the existing file.\\n\")\n",
        "    print(\"File 'example.txt' appended successfully.\")\n",
        "except IOError as e:\n",
        "    print(f\"An error occurred while appending to the file: {e}\")\n",
        "\n",
        "# Reading from the File Again to See Changes\n",
        "try:\n",
        "    with open(\"example.txt\", \"r\") as file:\n",
        "        content = file.read()\n",
        "    print(\"File 'example.txt' read successfully after appending. Content:\")\n",
        "    print(content)\n",
        "except FileNotFoundError:\n",
        "    print(\"File 'example.txt' not found.\")\n",
        "except IOError as e:\n",
        "    print(f\"An error occurred while reading the file: {e}\")\n",
        "\n",
        "# Handling Exceptions\n",
        "try:\n",
        "    with open(\"nonexistent_file.txt\", \"r\") as file:\n",
        "        content = file.read()\n",
        "except FileNotFoundError:\n",
        "    print(\"File 'nonexistent_file.txt' not found.\")\n",
        "except IOError as e:\n",
        "    print(f\"An error occurred while handling the file: {e}\")\n"
      ],
      "metadata": {
        "colab": {
          "base_uri": "https://localhost:8080/"
        },
        "id": "xkk0YCa3yqSa",
        "outputId": "0fa2c797-bb71-4642-d987-687d0e15bdb7"
      },
      "execution_count": 33,
      "outputs": [
        {
          "output_type": "stream",
          "name": "stdout",
          "text": [
            "File 'example.txt' created and written successfully.\n",
            "File 'example.txt' read successfully. Content:\n",
            "Hello, this is a new text file created using file handling in Python.\n",
            "This file demonstrates various file operations.\n",
            "\n",
            "File 'example.txt' appended successfully.\n",
            "File 'example.txt' read successfully after appending. Content:\n",
            "Hello, this is a new text file created using file handling in Python.\n",
            "This file demonstrates various file operations.\n",
            "Appending a new line to the existing file.\n",
            "\n",
            "File 'nonexistent_file.txt' not found.\n"
          ]
        }
      ]
    },
    {
      "cell_type": "markdown",
      "source": [
        "# **class and objects**"
      ],
      "metadata": {
        "id": "qdJY7onf1yhn"
      }
    },
    {
      "cell_type": "code",
      "source": [
        "# Example 1: Simple Class with a Class Variable\n",
        "class Person:\n",
        "    x = 10**2\n",
        "\n",
        "p = Person()\n",
        "print(p.x)  # Output: 100\n",
        "\n",
        "# Example 2: Class with an __init__ Method and Instance Methods\n",
        "class Person:\n",
        "    def __init__(self, name, age):\n",
        "        self.name = name\n",
        "        self.age = age\n",
        "\n",
        "    def show(self):\n",
        "        print(f\"Name: {self.name}, Age: {self.age}\")\n",
        "\n",
        "p = Person(\"John Doe\", 26)\n",
        "p.show()  # Output: Name: John Doe, Age: 26\n",
        "print(p.name, p.age)  # Output: John Doe 26\n",
        "\n",
        "p1 = Person(\"Ashutosh\", 24)\n",
        "print(p1.name, p1.age)  # Output: Ashutosh 24\n",
        "\n",
        "# Example 3: Class with a Method to Update Attributes\n",
        "class Person:\n",
        "    def __init__(self, name, age):\n",
        "        self.name = name\n",
        "        self.age = age\n",
        "\n",
        "    def show(self):\n",
        "        print(f\"Name: {self.name}, Age: {self.age}\")\n",
        "\n",
        "    def update_age(self, new_age):\n",
        "        self.age = new_age\n",
        "\n",
        "p = Person(\"Alice\", 30)\n",
        "p.show()  # Output: Name: Alice, Age: 30\n",
        "p.update_age(31)\n",
        "p.show()  # Output: Name: Alice, Age: 31\n",
        "\n",
        "# Example 4: Class with a Static Method\n",
        "class Person:\n",
        "    def __init__(self, name, age):\n",
        "        self.name = name\n",
        "        self.age = age\n",
        "\n",
        "    def show(self):\n",
        "        print(f\"Name: {self.name}, Age: {self.age}\")\n",
        "\n",
        "    @staticmethod\n",
        "    def is_adult(age):\n",
        "        return age >= 18\n",
        "\n",
        "print(Person.is_adult(20))  # Output: True\n",
        "print(Person.is_adult(15))  # Output: False\n",
        "\n",
        "# Example 5: Class with a Class Method\n",
        "class Person:\n",
        "    population = 0\n",
        "\n",
        "    def __init__(self, name, age):\n",
        "        self.name = name\n",
        "        self.age = age\n",
        "        Person.population += 1\n",
        "\n",
        "    def show(self):\n",
        "        print(f\"Name: {self.name}, Age: {self.age}\")\n",
        "\n",
        "    @classmethod\n",
        "    def get_population(cls):\n",
        "        return cls.population\n",
        "\n",
        "p1 = Person(\"John Doe\", 26)\n",
        "p2 = Person(\"Jane Doe\", 28)\n",
        "print(Person.get_population())  # Output: 2\n"
      ],
      "metadata": {
        "colab": {
          "base_uri": "https://localhost:8080/"
        },
        "id": "A-8n_sMm13It",
        "outputId": "fc02e189-00f1-466f-daa1-9ae3c7c1ee62"
      },
      "execution_count": 34,
      "outputs": [
        {
          "output_type": "stream",
          "name": "stdout",
          "text": [
            "100\n",
            "Name: John Doe, Age: 26\n",
            "John Doe 26\n",
            "Ashutosh 24\n",
            "Name: Alice, Age: 30\n",
            "Name: Alice, Age: 31\n",
            "True\n",
            "False\n",
            "2\n"
          ]
        }
      ]
    }
  ]
}